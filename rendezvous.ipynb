{
 "cells": [
  {
   "cell_type": "markdown",
   "metadata": {},
   "source": [
    "setup"
   ]
  },
  {
   "cell_type": "code",
   "execution_count": 339,
   "metadata": {},
   "outputs": [],
   "source": [
    "import copy\n",
    "import time\n",
    "import matplotlib\n",
    "import matplotlib.pyplot as pyplot\n",
    "import numpy as np\n",
    "import pdb"
   ]
  },
  {
   "cell_type": "code",
   "execution_count": 340,
   "metadata": {},
   "outputs": [],
   "source": [
    "import torch\n",
    "import torch.nn as nn\n",
    "import torch.optim as opt\n",
    "from torch.autograd import Variable"
   ]
  },
  {
   "cell_type": "code",
   "execution_count": 341,
   "metadata": {},
   "outputs": [
    {
     "name": "stdout",
     "output_type": "stream",
     "text": [
      "The autoreload extension is already loaded. To reload it, use:\n",
      "  %reload_ext autoreload\n"
     ]
    }
   ],
   "source": [
    "matplotlib.rcParams['figure.figsize'] = 12,8\n",
    "\n",
    "%matplotlib inline\n",
    "\n",
    "%load_ext autoreload\n",
    "%autoreload 2"
   ]
  },
  {
   "cell_type": "code",
   "execution_count": null,
   "metadata": {},
   "outputs": [],
   "source": []
  },
  {
   "cell_type": "code",
   "execution_count": null,
   "metadata": {},
   "outputs": [],
   "source": []
  },
  {
   "cell_type": "markdown",
   "metadata": {},
   "source": [
    "DQN"
   ]
  },
  {
   "cell_type": "code",
   "execution_count": 169,
   "metadata": {},
   "outputs": [
    {
     "data": {
      "text/plain": [
       "True"
      ]
     },
     "execution_count": 169,
     "metadata": {},
     "output_type": "execute_result"
    }
   ],
   "source": [
    "torch.cuda.is_available()"
   ]
  },
  {
   "cell_type": "code",
   "execution_count": 170,
   "metadata": {},
   "outputs": [],
   "source": [
    "dtype = torch.cuda.FloatTensor"
   ]
  },
  {
   "cell_type": "code",
   "execution_count": 178,
   "metadata": {},
   "outputs": [],
   "source": [
    "class dqn(nn.Module):\n",
    "    \n",
    "    def __init__(self):\n",
    "        super(dqn, self).__init__()\n",
    "        \n",
    "        self.net = nn.Sequential(\n",
    "                                nn.Linear(1, 256),\n",
    "                                nn.ReLU(inplace=True),\n",
    "                                nn.Linear(256, 256),\n",
    "                                nn.ReLU(inplace=True),\n",
    "                                nn.Linear(256, 2)\n",
    "                                )\n",
    "        \n",
    "    def forward(self, distance):\n",
    "        return self.net(distance)"
   ]
  },
  {
   "cell_type": "markdown",
   "metadata": {},
   "source": [
    "test network with random data"
   ]
  },
  {
   "cell_type": "code",
   "execution_count": 258,
   "metadata": {},
   "outputs": [
    {
     "name": "stdout",
     "output_type": "stream",
     "text": [
      "tensor([[0.1444, 0.3187]], device='cuda:0', grad_fn=<ThAddmmBackward>)\n",
      "torch.Size([1, 2])\n",
      "0.00s = 0.00m elapsed for this test\n"
     ]
    }
   ],
   "source": [
    "tic = time.clock()\n",
    "N = 1\n",
    "\n",
    "model = dqn().type(dtype)\n",
    "distance = Variable(torch.randn(N,1)).type(dtype)\n",
    "Q = model(distance)\n",
    "toc = time.clock()\n",
    "\n",
    "print(Q)\n",
    "print(Q.size())\n",
    "print('%0.2fs = %0.2fm elapsed for this test' %(toc-tic,(toc-tic)/60))"
   ]
  },
  {
   "cell_type": "code",
   "execution_count": null,
   "metadata": {},
   "outputs": [],
   "source": []
  },
  {
   "cell_type": "markdown",
   "metadata": {},
   "source": [
    "grid world functions"
   ]
  },
  {
   "cell_type": "code",
   "execution_count": 89,
   "metadata": {},
   "outputs": [],
   "source": [
    "class grid_agent(object):\n",
    "    \n",
    "    def __init__(self, x_max, y_max):\n",
    "        self.position = (np.random.randint(1,x_max+1), \n",
    "                        np.random.randint(1,y_max+1))\n",
    "        self.x_max = x_max\n",
    "        self.y_max = y_max\n",
    "        \n",
    "    def move(self, delta):\n",
    "        \"\"\"\n",
    "        move - 1 2 3\n",
    "               4 0 5\n",
    "               6 7 8\n",
    "        \"\"\"\n",
    "        self.position = (self.position[0]+delta[0],\n",
    "                         self.position[1]+delta[1])\n",
    "#         if action == 0:\n",
    "#             pass\n",
    "#         elif action == 1:\n",
    "#             self.position = (self.position[0]-1,self.position[1]+1)\n",
    "#         elif action == 2:\n",
    "#             self.position = (self.position[0]  ,self.position[1]+1)\n",
    "#         elif action == 3:\n",
    "#             self.position = (self.position[0]+1,self.position[1]+1)\n",
    "#         elif action == 4:\n",
    "#             self.position = (self.position[0]-1,self.position[1])\n",
    "#         elif action == 5:\n",
    "#             self.position = (self.position[0]+1,self.position[1])\n",
    "#         elif action == 6:\n",
    "#             self.position = (self.position[0]-1,self.position[1]-1)\n",
    "#         elif action == 7:\n",
    "#             self.position = (self.position[0]  ,self.position[1]-1)\n",
    "#         elif action == 8:\n",
    "#             self.position = (self.position[0]+1,self.position[1]-1)\n",
    "            \n",
    "        if self.position[0] < 1:\n",
    "            self.position[0] = 1\n",
    "        elif self.position[0] > x_max:\n",
    "            self.position[0] = x_max\n",
    "            \n",
    "        if self.position[1] < 1:\n",
    "            self.position[1] = 1\n",
    "        elif self.position[1] > y_max:\n",
    "            self.position[1] = y_max\n",
    "\n",
    "        return\n",
    "        "
   ]
  },
  {
   "cell_type": "code",
   "execution_count": null,
   "metadata": {},
   "outputs": [],
   "source": []
  },
  {
   "cell_type": "code",
   "execution_count": 318,
   "metadata": {},
   "outputs": [],
   "source": [
    "def observation(goal, eps):\n",
    "    if eps >= 0 and eps < 0.2:\n",
    "        return (goal[0]-1,goal[1])\n",
    "    elif eps >= 0.2 and eps < 0.4:\n",
    "        return (goal[0],goal[1]+1)\n",
    "    elif eps >= 0.4 and eps < 0.6:\n",
    "        return (goal[0]+1,goal[1])\n",
    "    elif eps >= 0.6 and eps < 0.8:\n",
    "        return (goal[0],goal[1]-1)\n",
    "    else:\n",
    "        return goal"
   ]
  },
  {
   "cell_type": "code",
   "execution_count": null,
   "metadata": {},
   "outputs": [],
   "source": []
  },
  {
   "cell_type": "markdown",
   "metadata": {},
   "source": [
    "train the network"
   ]
  },
  {
   "cell_type": "code",
   "execution_count": 319,
   "metadata": {},
   "outputs": [],
   "source": [
    "# replay setup\n",
    "memory_size = 1000000\n",
    "min_exp_size = 500\n",
    "sarst = None\n",
    "\n",
    "# network instance\n",
    "model = dqn().type(dtype)\n",
    "target = dqn().type(dtype)\n",
    "update_max = 250\n",
    "update_ctr = 1\n",
    "\n",
    "# optimizer\n",
    "gamma = 0.99\n",
    "batch_size = 32\n",
    "optimizer = opt.Adam(model.parameters(), lr=1e-4)\n",
    "\n",
    "# exploration\n",
    "eps_init = 1\n",
    "eps_finl = 0.15\n",
    "anneal_range = 1000\n",
    "eps = eps_init\n",
    "\n",
    "# loss function\n",
    "loss_fn = nn.MSELoss(reduction='elementwise_mean')\n",
    "rew_hist = []\n",
    "loss_hist = []\n",
    "\n",
    "# flags\n",
    "pf1 = False\n",
    "pf2 = False"
   ]
  },
  {
   "cell_type": "markdown",
   "metadata": {},
   "source": [
    "training loop"
   ]
  },
  {
   "cell_type": "code",
   "execution_count": 320,
   "metadata": {},
   "outputs": [],
   "source": [
    "num_episodes = 2000"
   ]
  },
  {
   "cell_type": "code",
   "execution_count": 321,
   "metadata": {},
   "outputs": [
    {
     "name": "stdout",
     "output_type": "stream",
     "text": [
      "finished 100 episodes\n",
      "finished 200 episodes\n",
      "finished 300 episodes\n",
      "finished 400 episodes\n",
      "finished 500 episodes\n",
      "finished 600 episodes\n",
      "finished 700 episodes\n",
      "finished 800 episodes\n",
      "finished 900 episodes\n",
      "finished 1000 episodes\n",
      "finished 1100 episodes\n",
      "finished 1200 episodes\n",
      "finished 1300 episodes\n",
      "finished 1400 episodes\n",
      "finished 1500 episodes\n",
      "finished 1600 episodes\n",
      "finished 1700 episodes\n",
      "finished 1800 episodes\n",
      "finished 1900 episodes\n",
      "finished 2000 episodes\n"
     ]
    }
   ],
   "source": [
    "x_max = 10\n",
    "y_max = 10\n",
    "\n",
    "goal = (x_max-1,y_max-1)\n",
    "movements = [(-1,-1),(-1,0),(-1,1),\n",
    "             (0,-1),(0,0),(0,1),\n",
    "             (1,-1),(1,0),(1,1)]\n",
    "\n",
    "for episode in range(num_episodes):\n",
    "    agent = grid_agent(x_max, y_max)\n",
    "    done = False\n",
    "    r = 0\n",
    "    \n",
    "    if sarst is None:\n",
    "        sarst = np.zeros((1,5))\n",
    "    else:\n",
    "        sarst = np.vstack((sarst,np.zeros((1,5))))\n",
    "        \n",
    "    noisy_goal = observation(goal, np.random.rand())\n",
    "    current_distance = np.abs(agent.position[0]-noisy_goal[0]) + np.abs(agent.position[1]-noisy_goal[1])\n",
    "    sarst[-1,0] = current_distance\n",
    "    \n",
    "    t = 1\n",
    "    while not done:\n",
    "        \n",
    "        if np.random.rand() <= eps:\n",
    "            action = np.random.randint(0,2)\n",
    "        else:\n",
    "            state = Variable(torch.from_numpy(np.array(sarst[-1,0]))).type(dtype)\n",
    "            Q = model(state.unsqueeze(0)).data.cpu().numpy()\n",
    "            action = np.argmax(Q)\n",
    "            \n",
    "        delta = None\n",
    "        values = []\n",
    "        if action == 0:\n",
    "            for idx,(dx,dy) in enumerate(movements):\n",
    "                distance = np.abs(agent.position[0]+dx-noisy_goal[0]) + \\\n",
    "                           np.abs(agent.position[1]+dy-noisy_goal[1])\n",
    "                values.append((distance,idx))\n",
    "\n",
    "            _, choice = min(values)\n",
    "            delta = movements[choice]\n",
    "\n",
    "        elif action == 1:\n",
    "            for idx,(dx,dy) in enumerate(movements):\n",
    "                distance = np.abs(agent.position[0]+dx-goal[0]) + \\\n",
    "                           np.abs(agent.position[1]+dy-goal[1])\n",
    "                values.append((distance,idx))\n",
    "\n",
    "            _, choice = min(values)\n",
    "            delta = movements[choice]\n",
    "            \n",
    "            r += -1\n",
    "        \n",
    "        r += -1\n",
    "        agent.move(delta)\n",
    "        \n",
    "        if agent.position[0] == goal[0] and agent.position[1] == goal[1]:\n",
    "            r += min([x_max, y_max])\n",
    "            done = True\n",
    "        if t >= min([x_max, y_max]):\n",
    "            done = True\n",
    "        \n",
    "        noisy_goal = observation(goal, np.random.rand())\n",
    "        next_distance = np.abs(agent.position[0]-noisy_goal[0]) + np.abs(agent.position[1]-noisy_goal[1])\n",
    "        sarst[-1,1] = action\n",
    "        sarst[-1,2] = r\n",
    "        sarst[-1,3] = next_distance\n",
    "        sarst[-1,4] = done\n",
    "        \n",
    "        if not done:\n",
    "            sarst = np.vstack((sarst, np.zeros((1,5))))\n",
    "            sarst[-1,0] = next_distance\n",
    "            t += 1\n",
    "            \n",
    "        if sarst.shape[0] < min_exp_size or sarst.shape[0] < batch_size:\n",
    "            continue\n",
    "        elif not pf1:\n",
    "            pf1 = True\n",
    "            # print('---DEBUG: generated enough experiences')\n",
    "            \n",
    "        loss = 0\n",
    "        batch = sarst[np.random.choice(sarst.shape[0], batch_size, replace=False), :]\n",
    "        batch_states = Variable(torch.from_numpy(batch[:,0])).type(dtype).unsqueeze(1)\n",
    "        batch_actions = Variable(torch.from_numpy(batch[:,1])).type(torch.cuda.LongTensor)\n",
    "        x = model(batch_states).gather(1, batch_actions.view(-1, 1)).squeeze()\n",
    "        \n",
    "        batch_next_states = Variable(torch.from_numpy(batch[:,3])).type(dtype).unsqueeze(1)\n",
    "        tt = target(batch_next_states).data.cpu().numpy()\n",
    "        tt = batch[:,2] + gamma*(1-batch[:,4])*np.amax(tt, axis=1)\n",
    "        tt = Variable(torch.from_numpy(tt), requires_grad=False).type(dtype)\n",
    "        loss += loss_fn(x, tt)\n",
    "        \n",
    "        loss_hist.append(loss.item())\n",
    "        \n",
    "        optimizer.zero_grad()\n",
    "        loss.backward()\n",
    "        optimizer.step()\n",
    "            \n",
    "        # anneal exploration rate\n",
    "        if eps > eps_finl:\n",
    "            eps += -(eps_init - eps_finl)/anneal_range\n",
    "        elif not pf2:\n",
    "            pf2 = True\n",
    "            # print('---DEBUG: finished annealing the exploration rate')\n",
    "        \n",
    "        # update target network periodically\n",
    "        if update_ctr % update_max == 0:\n",
    "            target = copy.deepcopy(model)\n",
    "            # print('---DEBUG: updated target network (%d)' %(update_ctr / update_max))\n",
    "        update_ctr += 1\n",
    "        \n",
    "        # drop from memory if too many elements\n",
    "        if sarst.shape[0] > memory_size:\n",
    "            sarst = sarst[sarst.shape[0]-memory_size:,:]\n",
    "        \n",
    "    # print('episode %d: %d steps, %d reward' %(episode, t, r))\n",
    "    \n",
    "    if (episode+1)%100 == 0:\n",
    "        print('finished %d episodes' %(episode+1))\n",
    "    \n",
    "    rew_hist.append(r)\n"
   ]
  },
  {
   "cell_type": "code",
   "execution_count": null,
   "metadata": {},
   "outputs": [],
   "source": []
  },
  {
   "cell_type": "code",
   "execution_count": 322,
   "metadata": {},
   "outputs": [
    {
     "data": {
      "text/plain": [
       "[<matplotlib.lines.Line2D at 0x7f9844d99b00>]"
      ]
     },
     "execution_count": 322,
     "metadata": {},
     "output_type": "execute_result"
    },
    {
     "data": {
      "image/png": "[encoded data removed]",
      "text/plain": [
       "<Figure size 432x288 with 1 Axes>"
      ]
     },
     "metadata": {
      "needs_background": "light"
     },
     "output_type": "display_data"
    },
    {
     "data": {
      "image/png": "[encoded data removed]",
      "text/plain": [
       "<Figure size 432x288 with 1 Axes>"
      ]
     },
     "metadata": {
      "needs_background": "light"
     },
     "output_type": "display_data"
    }
   ],
   "source": [
    "fig = pyplot.figure()\n",
    "pyplot.plot(range(len(rew_hist)), rew_hist, 'b-o')\n",
    "\n",
    "fig = pyplot.figure()\n",
    "pyplot.plot(range(len(loss_hist)), loss_hist, 'k--s')"
   ]
  },
  {
   "cell_type": "code",
   "execution_count": null,
   "metadata": {},
   "outputs": [],
   "source": []
  },
  {
   "cell_type": "code",
   "execution_count": 348,
   "metadata": {},
   "outputs": [
    {
     "data": {
      "image/png": "[encoded data removed]",
      "text/plain": [
       "<Figure size 432x288 with 1 Axes>"
      ]
     },
     "metadata": {
      "needs_background": "light"
     },
     "output_type": "display_data"
    }
   ],
   "source": [
    "x_max = 10\n",
    "y_max = 10\n",
    "\n",
    "goal = (x_max-1,y_max-1)\n",
    "movements = [(-1,-1),(-1,0),(-1,1),\n",
    "             (0,-1),(0,0),(0,1),\n",
    "             (1,-1),(1,0),(1,1)]\n",
    "\n",
    "agent = grid_agent(x_max, y_max)\n",
    "\n",
    "pyplot.figure()\n",
    "pyplot.xlim([0,x_max+1])\n",
    "pyplot.ylim([0,y_max+1])\n",
    "\n",
    "for t in range(min([x_max, y_max])):\n",
    "    \n",
    "    if agent.position[0] == goal[0] and agent.position[1] == goal[1]:\n",
    "        break\n",
    "    \n",
    "    noisy_goal = observation(goal, np.random.rand())\n",
    "    current_distance = np.abs(agent.position[0]-noisy_goal[0]) + np.abs(agent.position[1]-noisy_goal[1])\n",
    "    \n",
    "    state = Variable(torch.from_numpy(np.array(current_distance))).type(dtype)\n",
    "    Q = model(state.unsqueeze(0)).data.cpu().numpy()\n",
    "    action = np.argmax(Q)\n",
    "    \n",
    "    delta = None\n",
    "    values = []\n",
    "    if action == 0:\n",
    "        for idx,(dx,dy) in enumerate(movements):\n",
    "            distance = np.abs(agent.position[0]+dx-noisy_goal[0]) + \\\n",
    "                       np.abs(agent.position[1]+dy-noisy_goal[1])\n",
    "            values.append((distance,idx))\n",
    "\n",
    "        _, choice = min(values)\n",
    "        delta = movements[choice]\n",
    "\n",
    "    elif action == 1:\n",
    "        for idx,(dx,dy) in enumerate(movements):\n",
    "            distance = np.abs(agent.position[0]+dx-goal[0]) + \\\n",
    "                       np.abs(agent.position[1]+dy-goal[1])\n",
    "            values.append((distance,idx))\n",
    "\n",
    "        _, choice = min(values)\n",
    "        delta = movements[choice]\n",
    "    \n",
    "    if action == 0:\n",
    "        pyplot.plot(agent.position[0], agent.position[1], 'k.')\n",
    "    elif action == 1:\n",
    "        pyplot.plot(agent.position[0], agent.position[1], 'g.', MarkerSize=10)\n",
    "    \n",
    "    agent.move(delta)\n",
    "    \n",
    "pyplot.show()"
   ]
  },
  {
   "cell_type": "code",
   "execution_count": null,
   "metadata": {},
   "outputs": [],
   "source": []
  },
  {
   "cell_type": "code",
   "execution_count": 351,
   "metadata": {},
   "outputs": [
    {
     "data": {
      "image/png": "[encoded data removed]",
      "text/plain": [
       "<Figure size 432x288 with 1 Axes>"
      ]
     },
     "metadata": {
      "needs_background": "light"
     },
     "output_type": "display_data"
    }
   ],
   "source": [
    "pyplot.figure()\n",
    "for distance in range(50):\n",
    "    state = Variable(torch.from_numpy(np.array(distance))).type(dtype)\n",
    "    Q = model(state.unsqueeze(0)).data.cpu().numpy()\n",
    "    action = np.argmax(Q)\n",
    "    \n",
    "    pyplot.plot(distance, action, 'k.', Markersize=10)"
   ]
  },
  {
   "cell_type": "code",
   "execution_count": null,
   "metadata": {},
   "outputs": [],
   "source": []
  },
  {
   "cell_type": "code",
   "execution_count": null,
   "metadata": {},
   "outputs": [],
   "source": []
  }
 ],
 "metadata": {
  "kernelspec": {
   "display_name": "Python 3",
   "language": "python",
   "name": "python3"
  },
  "language_info": {
   "codemirror_mode": {
    "name": "ipython",
    "version": 3
   },
   "file_extension": ".py",
   "mimetype": "text/x-python",
   "name": "python",
   "nbconvert_exporter": "python",
   "pygments_lexer": "ipython3",
   "version": "3.6.6"
  }
 },
 "nbformat": 4,
 "nbformat_minor": 2
}
